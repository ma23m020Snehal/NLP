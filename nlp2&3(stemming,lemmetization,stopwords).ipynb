{
  "nbformat": 4,
  "nbformat_minor": 0,
  "metadata": {
    "colab": {
      "provenance": []
    },
    "kernelspec": {
      "name": "python3",
      "display_name": "Python 3"
    },
    "language_info": {
      "name": "python"
    }
  },
  "cells": [
    {
      "cell_type": "code",
      "execution_count": 1,
      "metadata": {
        "colab": {
          "base_uri": "https://localhost:8080/"
        },
        "id": "zjG6-g31qeo5",
        "outputId": "bb5412ce-c1e7-4b67-e2b4-aff456be0208"
      },
      "outputs": [
        {
          "output_type": "stream",
          "name": "stdout",
          "text": [
            "Requirement already satisfied: nltk in /usr/local/lib/python3.10/dist-packages (3.8.1)\n",
            "Requirement already satisfied: click in /usr/local/lib/python3.10/dist-packages (from nltk) (8.1.7)\n",
            "Requirement already satisfied: joblib in /usr/local/lib/python3.10/dist-packages (from nltk) (1.4.2)\n",
            "Requirement already satisfied: regex>=2021.8.3 in /usr/local/lib/python3.10/dist-packages (from nltk) (2024.5.15)\n",
            "Requirement already satisfied: tqdm in /usr/local/lib/python3.10/dist-packages (from nltk) (4.66.4)\n"
          ]
        }
      ],
      "source": [
        "!pip install nltk"
      ]
    },
    {
      "cell_type": "code",
      "source": [
        "paragraph='''\n",
        "In 1956, the West German Government offered technical assistance for establishing West an institute of higher education in engineering in India. The first Indo-German agreement was signed in Bonn, West Germany in 1959 for the establishment of the Indian Institute of Technology at Madras. IIT Madras was started with technical, academic and financial assistance from the Government of West Germany and was at the time the largest international educational project sponsored by the West German government. The Government of the Federal Republic of Germany has agreed to provide the following assistance in the establishment of a higher technological institute at Madras:\n",
        "\n",
        "A workshop, laboratory equipment, and a library whose total value does not exceed ₹1.8 crore (equivalent to ₹166 crores or $20 million in 2024) .[12]\n",
        "Twenty German professors to serve at the institute for a period of four to five years\n",
        "Four German foremen for the workshops of the institute for two years\n",
        "Facilities for the training of twenty Indian teachers in German institutions[13]\n",
        "This has led to several collaborative research efforts with universities and institutions in Germany over the years.[14] Although official support from the German government has ended, several research efforts involving the DAAD programme and Humboldt Fellowships still exist.\n",
        "\n",
        "The Indian Institute of Technology, Madras started functioning with the first batch of 120 students being admitted in July 1959 to the first year of the Engineering Course.[15] The institute was inaugurated in 1959, by the then Union Minister for Scientific Research and Cultural Affairs. The first batch had an overall strength of 120 students from across India.[16] In 1961, the IITs were declared to be Institutes of National Importance. The first convocation ceremony was held on 11 July 1964, with Dr. S. Radhakrishnan, then the president of India, delivering the convocation address and awarding the degrees to the inaugural batch of students.[17] The institute got its first women students in the BTech batch of 1966.[18] IIT Madras celebrated its Golden Jubilee in 2009, and its Diamond Jubilee in 2019.[19]\n",
        "\n",
        "'''"
      ],
      "metadata": {
        "id": "JFQjrVCSq3Dz"
      },
      "execution_count": 2,
      "outputs": []
    },
    {
      "cell_type": "code",
      "source": [
        "import nltk\n",
        "from nltk.stem import PorterStemmer\n",
        "from nltk.corpus import stopwords"
      ],
      "metadata": {
        "id": "L8xA9LhWrSlO"
      },
      "execution_count": 3,
      "outputs": []
    },
    {
      "cell_type": "code",
      "source": [
        "#tokenization - paragraph- sentence -words convert\n",
        "nltk.download('punkt')\n",
        "sentences=nltk.sent_tokenize(paragraph) # paragraph to sentence"
      ],
      "metadata": {
        "colab": {
          "base_uri": "https://localhost:8080/"
        },
        "id": "J2WMn2BVrzln",
        "outputId": "cb0ed172-cf41-4c99-83f1-c5f427a22c37"
      },
      "execution_count": 4,
      "outputs": [
        {
          "output_type": "stream",
          "name": "stderr",
          "text": [
            "[nltk_data] Downloading package punkt to /root/nltk_data...\n",
            "[nltk_data]   Unzipping tokenizers/punkt.zip.\n"
          ]
        }
      ]
    },
    {
      "cell_type": "code",
      "source": [
        "sentences"
      ],
      "metadata": {
        "colab": {
          "base_uri": "https://localhost:8080/"
        },
        "id": "R5Rk9f7js1He",
        "outputId": "d3ee2331-d1a8-4f9c-85b0-6138b7b6dda1"
      },
      "execution_count": 5,
      "outputs": [
        {
          "output_type": "execute_result",
          "data": {
            "text/plain": [
              "['\\nIn 1956, the West German Government offered technical assistance for establishing West an institute of higher education in engineering in India.',\n",
              " 'The first Indo-German agreement was signed in Bonn, West Germany in 1959 for the establishment of the Indian Institute of Technology at Madras.',\n",
              " 'IIT Madras was started with technical, academic and financial assistance from the Government of West Germany and was at the time the largest international educational project sponsored by the West German government.',\n",
              " 'The Government of the Federal Republic of Germany has agreed to provide the following assistance in the establishment of a higher technological institute at Madras:\\n\\nA workshop, laboratory equipment, and a library whose total value does not exceed ₹1.8 crore (equivalent to ₹166 crores or $20 million in 2024) .',\n",
              " '[12]\\nTwenty German professors to serve at the institute for a period of four to five years\\nFour German foremen for the workshops of the institute for two years\\nFacilities for the training of twenty Indian teachers in German institutions[13]\\nThis has led to several collaborative research efforts with universities and institutions in Germany over the years.',\n",
              " '[14] Although official support from the German government has ended, several research efforts involving the DAAD programme and Humboldt Fellowships still exist.',\n",
              " 'The Indian Institute of Technology, Madras started functioning with the first batch of 120 students being admitted in July 1959 to the first year of the Engineering Course.',\n",
              " '[15] The institute was inaugurated in 1959, by the then Union Minister for Scientific Research and Cultural Affairs.',\n",
              " 'The first batch had an overall strength of 120 students from across India.',\n",
              " '[16] In 1961, the IITs were declared to be Institutes of National Importance.',\n",
              " 'The first convocation ceremony was held on 11 July 1964, with Dr. S. Radhakrishnan, then the president of India, delivering the convocation address and awarding the degrees to the inaugural batch of students.',\n",
              " '[17] The institute got its first women students in the BTech batch of 1966.',\n",
              " '[18] IIT Madras celebrated its Golden Jubilee in 2009, and its Diamond Jubilee in 2019.',\n",
              " '[19]']"
            ]
          },
          "metadata": {},
          "execution_count": 5
        }
      ]
    },
    {
      "cell_type": "code",
      "source": [
        "type(sentences)"
      ],
      "metadata": {
        "colab": {
          "base_uri": "https://localhost:8080/"
        },
        "id": "iXLsKYEqs3tP",
        "outputId": "64f6074a-40eb-4e86-9fb9-4bfd42753eb3"
      },
      "execution_count": 6,
      "outputs": [
        {
          "output_type": "execute_result",
          "data": {
            "text/plain": [
              "list"
            ]
          },
          "metadata": {},
          "execution_count": 6
        }
      ]
    },
    {
      "cell_type": "code",
      "source": [
        "stemmer=PorterStemmer()\n",
        "stemmer.stem('history')"
      ],
      "metadata": {
        "colab": {
          "base_uri": "https://localhost:8080/",
          "height": 35
        },
        "id": "vSwzujvmtNwl",
        "outputId": "58402108-da51-47fb-d9cc-251d69798b52"
      },
      "execution_count": 7,
      "outputs": [
        {
          "output_type": "execute_result",
          "data": {
            "text/plain": [
              "'histori'"
            ],
            "application/vnd.google.colaboratory.intrinsic+json": {
              "type": "string"
            }
          },
          "metadata": {},
          "execution_count": 7
        }
      ]
    },
    {
      "cell_type": "code",
      "source": [
        "nltk.download('wordnet')\n",
        "from nltk import WordNetLemmatizer"
      ],
      "metadata": {
        "colab": {
          "base_uri": "https://localhost:8080/"
        },
        "id": "bDSqRp_ZtWpB",
        "outputId": "ccbbd63f-c45f-4de4-c533-f5d755619c2c"
      },
      "execution_count": 8,
      "outputs": [
        {
          "output_type": "stream",
          "name": "stderr",
          "text": [
            "[nltk_data] Downloading package wordnet to /root/nltk_data...\n"
          ]
        }
      ]
    },
    {
      "cell_type": "code",
      "source": [
        "lemmatizer=WordNetLemmatizer()\n",
        "lemmatizer.lemmatize('history')"
      ],
      "metadata": {
        "colab": {
          "base_uri": "https://localhost:8080/",
          "height": 35
        },
        "id": "tgAhyooLtq02",
        "outputId": "ed686553-d625-4c2a-d5e0-7e3509f9c006"
      },
      "execution_count": 9,
      "outputs": [
        {
          "output_type": "execute_result",
          "data": {
            "text/plain": [
              "'history'"
            ],
            "application/vnd.google.colaboratory.intrinsic+json": {
              "type": "string"
            }
          },
          "metadata": {},
          "execution_count": 9
        }
      ]
    },
    {
      "cell_type": "code",
      "source": [
        "#now clean the sentences\n",
        "len(sentences)"
      ],
      "metadata": {
        "colab": {
          "base_uri": "https://localhost:8080/"
        },
        "id": "ReYpvVpnt9sL",
        "outputId": "76b02d3d-73bb-4e07-f053-b72537796ee4"
      },
      "execution_count": 10,
      "outputs": [
        {
          "output_type": "execute_result",
          "data": {
            "text/plain": [
              "14"
            ]
          },
          "metadata": {},
          "execution_count": 10
        }
      ]
    },
    {
      "cell_type": "code",
      "source": [
        "import re\n"
      ],
      "metadata": {
        "id": "m6nK0F4au_DJ"
      },
      "execution_count": 11,
      "outputs": []
    },
    {
      "cell_type": "code",
      "source": [
        "corpus=[]\n",
        "for i in range(len(sentences)):\n",
        "  review=re.sub('[^a-zA-Z]',' ',sentences[i])\n",
        "  review=review.lower()\n",
        "  corpus.append(review)"
      ],
      "metadata": {
        "id": "Fqt0gC8CvCGK"
      },
      "execution_count": 12,
      "outputs": []
    },
    {
      "cell_type": "code",
      "source": [
        "corpus"
      ],
      "metadata": {
        "colab": {
          "base_uri": "https://localhost:8080/"
        },
        "id": "jA5uxV4uwJfw",
        "outputId": "a19f894f-1cf4-4ad3-97ef-b8cfee965d38"
      },
      "execution_count": 13,
      "outputs": [
        {
          "output_type": "execute_result",
          "data": {
            "text/plain": [
              "[' in       the west german government offered technical assistance for establishing west an institute of higher education in engineering in india ',\n",
              " 'the first indo german agreement was signed in bonn  west germany in      for the establishment of the indian institute of technology at madras ',\n",
              " 'iit madras was started with technical  academic and financial assistance from the government of west germany and was at the time the largest international educational project sponsored by the west german government ',\n",
              " 'the government of the federal republic of germany has agreed to provide the following assistance in the establishment of a higher technological institute at madras   a workshop  laboratory equipment  and a library whose total value does not exceed      crore  equivalent to      crores or     million in        ',\n",
              " '     twenty german professors to serve at the institute for a period of four to five years four german foremen for the workshops of the institute for two years facilities for the training of twenty indian teachers in german institutions     this has led to several collaborative research efforts with universities and institutions in germany over the years ',\n",
              " '     although official support from the german government has ended  several research efforts involving the daad programme and humboldt fellowships still exist ',\n",
              " 'the indian institute of technology  madras started functioning with the first batch of     students being admitted in july      to the first year of the engineering course ',\n",
              " '     the institute was inaugurated in       by the then union minister for scientific research and cultural affairs ',\n",
              " 'the first batch had an overall strength of     students from across india ',\n",
              " '     in       the iits were declared to be institutes of national importance ',\n",
              " 'the first convocation ceremony was held on    july       with dr  s  radhakrishnan  then the president of india  delivering the convocation address and awarding the degrees to the inaugural batch of students ',\n",
              " '     the institute got its first women students in the btech batch of      ',\n",
              " '     iit madras celebrated its golden jubilee in       and its diamond jubilee in      ',\n",
              " '    ']"
            ]
          },
          "metadata": {},
          "execution_count": 13
        }
      ]
    },
    {
      "cell_type": "code",
      "source": [
        "for i in corpus:\n",
        "  print(i)"
      ],
      "metadata": {
        "colab": {
          "base_uri": "https://localhost:8080/"
        },
        "id": "2EuByuNlxp4k",
        "outputId": "6e6c4d26-c712-41ed-f5f9-618f46c168d7"
      },
      "execution_count": 14,
      "outputs": [
        {
          "output_type": "stream",
          "name": "stdout",
          "text": [
            " in       the west german government offered technical assistance for establishing west an institute of higher education in engineering in india \n",
            "the first indo german agreement was signed in bonn  west germany in      for the establishment of the indian institute of technology at madras \n",
            "iit madras was started with technical  academic and financial assistance from the government of west germany and was at the time the largest international educational project sponsored by the west german government \n",
            "the government of the federal republic of germany has agreed to provide the following assistance in the establishment of a higher technological institute at madras   a workshop  laboratory equipment  and a library whose total value does not exceed      crore  equivalent to      crores or     million in        \n",
            "     twenty german professors to serve at the institute for a period of four to five years four german foremen for the workshops of the institute for two years facilities for the training of twenty indian teachers in german institutions     this has led to several collaborative research efforts with universities and institutions in germany over the years \n",
            "     although official support from the german government has ended  several research efforts involving the daad programme and humboldt fellowships still exist \n",
            "the indian institute of technology  madras started functioning with the first batch of     students being admitted in july      to the first year of the engineering course \n",
            "     the institute was inaugurated in       by the then union minister for scientific research and cultural affairs \n",
            "the first batch had an overall strength of     students from across india \n",
            "     in       the iits were declared to be institutes of national importance \n",
            "the first convocation ceremony was held on    july       with dr  s  radhakrishnan  then the president of india  delivering the convocation address and awarding the degrees to the inaugural batch of students \n",
            "     the institute got its first women students in the btech batch of      \n",
            "     iit madras celebrated its golden jubilee in       and its diamond jubilee in      \n",
            "    \n"
          ]
        }
      ]
    },
    {
      "cell_type": "code",
      "source": [
        "nltk.download('stopwords')"
      ],
      "metadata": {
        "colab": {
          "base_uri": "https://localhost:8080/"
        },
        "id": "M8TwvvfT5i5S",
        "outputId": "7832d699-a43b-42cd-f36c-4078f56f3b80"
      },
      "execution_count": 15,
      "outputs": [
        {
          "output_type": "stream",
          "name": "stderr",
          "text": [
            "[nltk_data] Downloading package stopwords to /root/nltk_data...\n",
            "[nltk_data]   Unzipping corpora/stopwords.zip.\n"
          ]
        },
        {
          "output_type": "execute_result",
          "data": {
            "text/plain": [
              "True"
            ]
          },
          "metadata": {},
          "execution_count": 15
        }
      ]
    },
    {
      "cell_type": "code",
      "source": [
        "#stemming\n",
        "for i in corpus:\n",
        "  words=nltk.word_tokenize(i)\n",
        "  for word in words:\n",
        "    if word not in set(stopwords.words('english')):\n",
        "      print(stemmer.stem(word))"
      ],
      "metadata": {
        "colab": {
          "base_uri": "https://localhost:8080/"
        },
        "id": "M7ujL8pEyBkW",
        "outputId": "e7f457b6-07c3-4b06-e09e-a105bfab2e8b"
      },
      "execution_count": 16,
      "outputs": [
        {
          "output_type": "stream",
          "name": "stdout",
          "text": [
            "west\n",
            "german\n",
            "govern\n",
            "offer\n",
            "technic\n",
            "assist\n",
            "establish\n",
            "west\n",
            "institut\n",
            "higher\n",
            "educ\n",
            "engin\n",
            "india\n",
            "first\n",
            "indo\n",
            "german\n",
            "agreement\n",
            "sign\n",
            "bonn\n",
            "west\n",
            "germani\n",
            "establish\n",
            "indian\n",
            "institut\n",
            "technolog\n",
            "madra\n",
            "iit\n",
            "madra\n",
            "start\n",
            "technic\n",
            "academ\n",
            "financi\n",
            "assist\n",
            "govern\n",
            "west\n",
            "germani\n",
            "time\n",
            "largest\n",
            "intern\n",
            "educ\n",
            "project\n",
            "sponsor\n",
            "west\n",
            "german\n",
            "govern\n",
            "govern\n",
            "feder\n",
            "republ\n",
            "germani\n",
            "agre\n",
            "provid\n",
            "follow\n",
            "assist\n",
            "establish\n",
            "higher\n",
            "technolog\n",
            "institut\n",
            "madra\n",
            "workshop\n",
            "laboratori\n",
            "equip\n",
            "librari\n",
            "whose\n",
            "total\n",
            "valu\n",
            "exceed\n",
            "crore\n",
            "equival\n",
            "crore\n",
            "million\n",
            "twenti\n",
            "german\n",
            "professor\n",
            "serv\n",
            "institut\n",
            "period\n",
            "four\n",
            "five\n",
            "year\n",
            "four\n",
            "german\n",
            "foremen\n",
            "workshop\n",
            "institut\n",
            "two\n",
            "year\n",
            "facil\n",
            "train\n",
            "twenti\n",
            "indian\n",
            "teacher\n",
            "german\n",
            "institut\n",
            "led\n",
            "sever\n",
            "collabor\n",
            "research\n",
            "effort\n",
            "univers\n",
            "institut\n",
            "germani\n",
            "year\n",
            "although\n",
            "offici\n",
            "support\n",
            "german\n",
            "govern\n",
            "end\n",
            "sever\n",
            "research\n",
            "effort\n",
            "involv\n",
            "daad\n",
            "programm\n",
            "humboldt\n",
            "fellowship\n",
            "still\n",
            "exist\n",
            "indian\n",
            "institut\n",
            "technolog\n",
            "madra\n",
            "start\n",
            "function\n",
            "first\n",
            "batch\n",
            "student\n",
            "admit\n",
            "juli\n",
            "first\n",
            "year\n",
            "engin\n",
            "cours\n",
            "institut\n",
            "inaugur\n",
            "union\n",
            "minist\n",
            "scientif\n",
            "research\n",
            "cultur\n",
            "affair\n",
            "first\n",
            "batch\n",
            "overal\n",
            "strength\n",
            "student\n",
            "across\n",
            "india\n",
            "iit\n",
            "declar\n",
            "institut\n",
            "nation\n",
            "import\n",
            "first\n",
            "convoc\n",
            "ceremoni\n",
            "held\n",
            "juli\n",
            "dr\n",
            "radhakrishnan\n",
            "presid\n",
            "india\n",
            "deliv\n",
            "convoc\n",
            "address\n",
            "award\n",
            "degre\n",
            "inaugur\n",
            "batch\n",
            "student\n",
            "institut\n",
            "got\n",
            "first\n",
            "women\n",
            "student\n",
            "btech\n",
            "batch\n",
            "iit\n",
            "madra\n",
            "celebr\n",
            "golden\n",
            "jubile\n",
            "diamond\n",
            "jubile\n"
          ]
        }
      ]
    },
    {
      "cell_type": "code",
      "source": [
        "stopwords.words('english')"
      ],
      "metadata": {
        "colab": {
          "base_uri": "https://localhost:8080/"
        },
        "id": "rNsSch0_4iGb",
        "outputId": "b66decb3-44b5-4dab-f85e-ffe9c2e87b71"
      },
      "execution_count": 17,
      "outputs": [
        {
          "output_type": "execute_result",
          "data": {
            "text/plain": [
              "['i',\n",
              " 'me',\n",
              " 'my',\n",
              " 'myself',\n",
              " 'we',\n",
              " 'our',\n",
              " 'ours',\n",
              " 'ourselves',\n",
              " 'you',\n",
              " \"you're\",\n",
              " \"you've\",\n",
              " \"you'll\",\n",
              " \"you'd\",\n",
              " 'your',\n",
              " 'yours',\n",
              " 'yourself',\n",
              " 'yourselves',\n",
              " 'he',\n",
              " 'him',\n",
              " 'his',\n",
              " 'himself',\n",
              " 'she',\n",
              " \"she's\",\n",
              " 'her',\n",
              " 'hers',\n",
              " 'herself',\n",
              " 'it',\n",
              " \"it's\",\n",
              " 'its',\n",
              " 'itself',\n",
              " 'they',\n",
              " 'them',\n",
              " 'their',\n",
              " 'theirs',\n",
              " 'themselves',\n",
              " 'what',\n",
              " 'which',\n",
              " 'who',\n",
              " 'whom',\n",
              " 'this',\n",
              " 'that',\n",
              " \"that'll\",\n",
              " 'these',\n",
              " 'those',\n",
              " 'am',\n",
              " 'is',\n",
              " 'are',\n",
              " 'was',\n",
              " 'were',\n",
              " 'be',\n",
              " 'been',\n",
              " 'being',\n",
              " 'have',\n",
              " 'has',\n",
              " 'had',\n",
              " 'having',\n",
              " 'do',\n",
              " 'does',\n",
              " 'did',\n",
              " 'doing',\n",
              " 'a',\n",
              " 'an',\n",
              " 'the',\n",
              " 'and',\n",
              " 'but',\n",
              " 'if',\n",
              " 'or',\n",
              " 'because',\n",
              " 'as',\n",
              " 'until',\n",
              " 'while',\n",
              " 'of',\n",
              " 'at',\n",
              " 'by',\n",
              " 'for',\n",
              " 'with',\n",
              " 'about',\n",
              " 'against',\n",
              " 'between',\n",
              " 'into',\n",
              " 'through',\n",
              " 'during',\n",
              " 'before',\n",
              " 'after',\n",
              " 'above',\n",
              " 'below',\n",
              " 'to',\n",
              " 'from',\n",
              " 'up',\n",
              " 'down',\n",
              " 'in',\n",
              " 'out',\n",
              " 'on',\n",
              " 'off',\n",
              " 'over',\n",
              " 'under',\n",
              " 'again',\n",
              " 'further',\n",
              " 'then',\n",
              " 'once',\n",
              " 'here',\n",
              " 'there',\n",
              " 'when',\n",
              " 'where',\n",
              " 'why',\n",
              " 'how',\n",
              " 'all',\n",
              " 'any',\n",
              " 'both',\n",
              " 'each',\n",
              " 'few',\n",
              " 'more',\n",
              " 'most',\n",
              " 'other',\n",
              " 'some',\n",
              " 'such',\n",
              " 'no',\n",
              " 'nor',\n",
              " 'not',\n",
              " 'only',\n",
              " 'own',\n",
              " 'same',\n",
              " 'so',\n",
              " 'than',\n",
              " 'too',\n",
              " 'very',\n",
              " 's',\n",
              " 't',\n",
              " 'can',\n",
              " 'will',\n",
              " 'just',\n",
              " 'don',\n",
              " \"don't\",\n",
              " 'should',\n",
              " \"should've\",\n",
              " 'now',\n",
              " 'd',\n",
              " 'll',\n",
              " 'm',\n",
              " 'o',\n",
              " 're',\n",
              " 've',\n",
              " 'y',\n",
              " 'ain',\n",
              " 'aren',\n",
              " \"aren't\",\n",
              " 'couldn',\n",
              " \"couldn't\",\n",
              " 'didn',\n",
              " \"didn't\",\n",
              " 'doesn',\n",
              " \"doesn't\",\n",
              " 'hadn',\n",
              " \"hadn't\",\n",
              " 'hasn',\n",
              " \"hasn't\",\n",
              " 'haven',\n",
              " \"haven't\",\n",
              " 'isn',\n",
              " \"isn't\",\n",
              " 'ma',\n",
              " 'mightn',\n",
              " \"mightn't\",\n",
              " 'mustn',\n",
              " \"mustn't\",\n",
              " 'needn',\n",
              " \"needn't\",\n",
              " 'shan',\n",
              " \"shan't\",\n",
              " 'shouldn',\n",
              " \"shouldn't\",\n",
              " 'wasn',\n",
              " \"wasn't\",\n",
              " 'weren',\n",
              " \"weren't\",\n",
              " 'won',\n",
              " \"won't\",\n",
              " 'wouldn',\n",
              " \"wouldn't\"]"
            ]
          },
          "metadata": {},
          "execution_count": 17
        }
      ]
    },
    {
      "cell_type": "code",
      "source": [
        "#lemmitization\n",
        "for i in corpus:\n",
        "  words=nltk.word_tokenize(i)\n",
        "  for word in words:\n",
        "    if word not in set(stopwords.words('english')):\n",
        "      print(lemmatizer.lemmatize(word))"
      ],
      "metadata": {
        "colab": {
          "base_uri": "https://localhost:8080/"
        },
        "id": "n7bTKd2G4mPN",
        "outputId": "57894c55-bcef-40da-b9d3-57e216f1d44e"
      },
      "execution_count": 18,
      "outputs": [
        {
          "output_type": "stream",
          "name": "stdout",
          "text": [
            "west\n",
            "german\n",
            "government\n",
            "offered\n",
            "technical\n",
            "assistance\n",
            "establishing\n",
            "west\n",
            "institute\n",
            "higher\n",
            "education\n",
            "engineering\n",
            "india\n",
            "first\n",
            "indo\n",
            "german\n",
            "agreement\n",
            "signed\n",
            "bonn\n",
            "west\n",
            "germany\n",
            "establishment\n",
            "indian\n",
            "institute\n",
            "technology\n",
            "madras\n",
            "iit\n",
            "madras\n",
            "started\n",
            "technical\n",
            "academic\n",
            "financial\n",
            "assistance\n",
            "government\n",
            "west\n",
            "germany\n",
            "time\n",
            "largest\n",
            "international\n",
            "educational\n",
            "project\n",
            "sponsored\n",
            "west\n",
            "german\n",
            "government\n",
            "government\n",
            "federal\n",
            "republic\n",
            "germany\n",
            "agreed\n",
            "provide\n",
            "following\n",
            "assistance\n",
            "establishment\n",
            "higher\n",
            "technological\n",
            "institute\n",
            "madras\n",
            "workshop\n",
            "laboratory\n",
            "equipment\n",
            "library\n",
            "whose\n",
            "total\n",
            "value\n",
            "exceed\n",
            "crore\n",
            "equivalent\n",
            "crore\n",
            "million\n",
            "twenty\n",
            "german\n",
            "professor\n",
            "serve\n",
            "institute\n",
            "period\n",
            "four\n",
            "five\n",
            "year\n",
            "four\n",
            "german\n",
            "foreman\n",
            "workshop\n",
            "institute\n",
            "two\n",
            "year\n",
            "facility\n",
            "training\n",
            "twenty\n",
            "indian\n",
            "teacher\n",
            "german\n",
            "institution\n",
            "led\n",
            "several\n",
            "collaborative\n",
            "research\n",
            "effort\n",
            "university\n",
            "institution\n",
            "germany\n",
            "year\n",
            "although\n",
            "official\n",
            "support\n",
            "german\n",
            "government\n",
            "ended\n",
            "several\n",
            "research\n",
            "effort\n",
            "involving\n",
            "daad\n",
            "programme\n",
            "humboldt\n",
            "fellowship\n",
            "still\n",
            "exist\n",
            "indian\n",
            "institute\n",
            "technology\n",
            "madras\n",
            "started\n",
            "functioning\n",
            "first\n",
            "batch\n",
            "student\n",
            "admitted\n",
            "july\n",
            "first\n",
            "year\n",
            "engineering\n",
            "course\n",
            "institute\n",
            "inaugurated\n",
            "union\n",
            "minister\n",
            "scientific\n",
            "research\n",
            "cultural\n",
            "affair\n",
            "first\n",
            "batch\n",
            "overall\n",
            "strength\n",
            "student\n",
            "across\n",
            "india\n",
            "iits\n",
            "declared\n",
            "institute\n",
            "national\n",
            "importance\n",
            "first\n",
            "convocation\n",
            "ceremony\n",
            "held\n",
            "july\n",
            "dr\n",
            "radhakrishnan\n",
            "president\n",
            "india\n",
            "delivering\n",
            "convocation\n",
            "address\n",
            "awarding\n",
            "degree\n",
            "inaugural\n",
            "batch\n",
            "student\n",
            "institute\n",
            "got\n",
            "first\n",
            "woman\n",
            "student\n",
            "btech\n",
            "batch\n",
            "iit\n",
            "madras\n",
            "celebrated\n",
            "golden\n",
            "jubilee\n",
            "diamond\n",
            "jubilee\n"
          ]
        }
      ]
    },
    {
      "cell_type": "code",
      "source": [
        "## Apply Stopswords. Lemmatize\n",
        "import re\n",
        "corpus = []\n",
        "for i in range(len(sentences)):\n",
        "    review = re.sub('[^a-zA-Z]', ' ', sentences[i])\n",
        "    review = review.lower()\n",
        "    review = review.split()\n",
        "    review = [lemmatizer.lemmatize(word) for word in review if not word in set(stopwords.words('english'))]\n",
        "    review = ' '.join(review)\n",
        "    corpus.append(review)"
      ],
      "metadata": {
        "id": "bRs1wVWAkGkn"
      },
      "execution_count": 19,
      "outputs": []
    },
    {
      "cell_type": "code",
      "source": [
        "corpus"
      ],
      "metadata": {
        "colab": {
          "base_uri": "https://localhost:8080/"
        },
        "id": "QYSdJaFNk4IV",
        "outputId": "ed68f103-3839-4cfb-dcb8-e561baafe1ca"
      },
      "execution_count": 20,
      "outputs": [
        {
          "output_type": "execute_result",
          "data": {
            "text/plain": [
              "['west german government offered technical assistance establishing west institute higher education engineering india',\n",
              " 'first indo german agreement signed bonn west germany establishment indian institute technology madras',\n",
              " 'iit madras started technical academic financial assistance government west germany time largest international educational project sponsored west german government',\n",
              " 'government federal republic germany agreed provide following assistance establishment higher technological institute madras workshop laboratory equipment library whose total value exceed crore equivalent crore million',\n",
              " 'twenty german professor serve institute period four five year four german foreman workshop institute two year facility training twenty indian teacher german institution led several collaborative research effort university institution germany year',\n",
              " 'although official support german government ended several research effort involving daad programme humboldt fellowship still exist',\n",
              " 'indian institute technology madras started functioning first batch student admitted july first year engineering course',\n",
              " 'institute inaugurated union minister scientific research cultural affair',\n",
              " 'first batch overall strength student across india',\n",
              " 'iits declared institute national importance',\n",
              " 'first convocation ceremony held july dr radhakrishnan president india delivering convocation address awarding degree inaugural batch student',\n",
              " 'institute got first woman student btech batch',\n",
              " 'iit madras celebrated golden jubilee diamond jubilee',\n",
              " '']"
            ]
          },
          "metadata": {},
          "execution_count": 20
        }
      ]
    },
    {
      "cell_type": "code",
      "source": [
        "from sklearn.feature_extraction.text import CountVectorizer\n",
        "#cv=CountVectorizer(binary=True) #for getting entry only 0 & 1\n",
        "#cv=CountVectorizer() #default binary=false\n",
        "cv=CountVectorizer(binary=True,ngram_range=(2,3)) # for ngram 2 then 3"
      ],
      "metadata": {
        "id": "f06ent4gYwqP"
      },
      "execution_count": 29,
      "outputs": []
    },
    {
      "cell_type": "code",
      "source": [
        "X=cv.fit_transform(corpus)"
      ],
      "metadata": {
        "id": "Q6tW9_4pZeQU"
      },
      "execution_count": 30,
      "outputs": []
    },
    {
      "cell_type": "code",
      "source": [
        "cv.vocabulary_"
      ],
      "metadata": {
        "colab": {
          "base_uri": "https://localhost:8080/"
        },
        "id": "YMwWhruJZmGL",
        "outputId": "ef00119c-60e2-44f1-d130-2c45b0cf7c5f"
      },
      "execution_count": 31,
      "outputs": [
        {
          "output_type": "execute_result",
          "data": {
            "text/plain": [
              "{'west german': 293,\n",
              " 'german government': 112,\n",
              " 'government offered': 134,\n",
              " 'offered technical': 211,\n",
              " 'technical assistance': 269,\n",
              " 'assistance establishing': 13,\n",
              " 'establishing west': 69,\n",
              " 'west institute': 298,\n",
              " 'institute higher': 165,\n",
              " 'higher education': 140,\n",
              " 'education engineering': 53,\n",
              " 'engineering india': 64,\n",
              " 'west german government': 294,\n",
              " 'german government offered': 114,\n",
              " 'government offered technical': 135,\n",
              " 'offered technical assistance': 212,\n",
              " 'technical assistance establishing': 270,\n",
              " 'assistance establishing west': 14,\n",
              " 'establishing west institute': 70,\n",
              " 'west institute higher': 299,\n",
              " 'institute higher education': 166,\n",
              " 'higher education engineering': 141,\n",
              " 'education engineering india': 54,\n",
              " 'first indo': 90,\n",
              " 'indo german': 161,\n",
              " 'german agreement': 108,\n",
              " 'agreement signed': 9,\n",
              " 'signed bonn': 246,\n",
              " 'bonn west': 25,\n",
              " 'west germany': 295,\n",
              " 'germany establishment': 121,\n",
              " 'establishment indian': 73,\n",
              " 'indian institute': 157,\n",
              " 'institute technology': 175,\n",
              " 'technology madras': 273,\n",
              " 'first indo german': 91,\n",
              " 'indo german agreement': 162,\n",
              " 'german agreement signed': 109,\n",
              " 'agreement signed bonn': 10,\n",
              " 'signed bonn west': 247,\n",
              " 'bonn west germany': 26,\n",
              " 'west germany establishment': 296,\n",
              " 'germany establishment indian': 122,\n",
              " 'establishment indian institute': 74,\n",
              " 'indian institute technology': 158,\n",
              " 'institute technology madras': 176,\n",
              " 'iit madras': 146,\n",
              " 'madras started': 203,\n",
              " 'started technical': 252,\n",
              " 'technical academic': 267,\n",
              " 'academic financial': 0,\n",
              " 'financial assistance': 83,\n",
              " 'assistance government': 17,\n",
              " 'government west': 136,\n",
              " 'germany time': 123,\n",
              " 'time largest': 275,\n",
              " 'largest international': 195,\n",
              " 'international educational': 183,\n",
              " 'educational project': 55,\n",
              " 'project sponsored': 225,\n",
              " 'sponsored west': 248,\n",
              " 'iit madras started': 148,\n",
              " 'madras started technical': 205,\n",
              " 'started technical academic': 253,\n",
              " 'technical academic financial': 268,\n",
              " 'academic financial assistance': 1,\n",
              " 'financial assistance government': 84,\n",
              " 'assistance government west': 18,\n",
              " 'government west germany': 137,\n",
              " 'west germany time': 297,\n",
              " 'germany time largest': 124,\n",
              " 'time largest international': 276,\n",
              " 'largest international educational': 196,\n",
              " 'international educational project': 184,\n",
              " 'educational project sponsored': 56,\n",
              " 'project sponsored west': 226,\n",
              " 'sponsored west german': 249,\n",
              " 'government federal': 132,\n",
              " 'federal republic': 79,\n",
              " 'republic germany': 231,\n",
              " 'germany agreed': 119,\n",
              " 'agreed provide': 7,\n",
              " 'provide following': 227,\n",
              " 'following assistance': 98,\n",
              " 'assistance establishment': 15,\n",
              " 'establishment higher': 71,\n",
              " 'higher technological': 142,\n",
              " 'technological institute': 271,\n",
              " 'institute madras': 169,\n",
              " 'madras workshop': 206,\n",
              " 'workshop laboratory': 306,\n",
              " 'laboratory equipment': 193,\n",
              " 'equipment library': 65,\n",
              " 'library whose': 199,\n",
              " 'whose total': 300,\n",
              " 'total value': 277,\n",
              " 'value exceed': 291,\n",
              " 'exceed crore': 75,\n",
              " 'crore equivalent': 38,\n",
              " 'equivalent crore': 67,\n",
              " 'crore million': 40,\n",
              " 'government federal republic': 133,\n",
              " 'federal republic germany': 80,\n",
              " 'republic germany agreed': 232,\n",
              " 'germany agreed provide': 120,\n",
              " 'agreed provide following': 8,\n",
              " 'provide following assistance': 228,\n",
              " 'following assistance establishment': 99,\n",
              " 'assistance establishment higher': 16,\n",
              " 'establishment higher technological': 72,\n",
              " 'higher technological institute': 143,\n",
              " 'technological institute madras': 272,\n",
              " 'institute madras workshop': 170,\n",
              " 'madras workshop laboratory': 207,\n",
              " 'workshop laboratory equipment': 307,\n",
              " 'laboratory equipment library': 194,\n",
              " 'equipment library whose': 66,\n",
              " 'library whose total': 200,\n",
              " 'whose total value': 301,\n",
              " 'total value exceed': 278,\n",
              " 'value exceed crore': 292,\n",
              " 'exceed crore equivalent': 76,\n",
              " 'crore equivalent crore': 39,\n",
              " 'equivalent crore million': 68,\n",
              " 'twenty german': 281,\n",
              " 'german professor': 117,\n",
              " 'professor serve': 221,\n",
              " 'serve institute': 240,\n",
              " 'institute period': 173,\n",
              " 'period four': 217,\n",
              " 'four five': 102,\n",
              " 'five year': 96,\n",
              " 'year four': 312,\n",
              " 'four german': 104,\n",
              " 'german foreman': 110,\n",
              " 'foreman workshop': 100,\n",
              " 'workshop institute': 304,\n",
              " 'institute two': 177,\n",
              " 'two year': 285,\n",
              " 'year facility': 310,\n",
              " 'facility training': 77,\n",
              " 'training twenty': 279,\n",
              " 'twenty indian': 283,\n",
              " 'indian teacher': 159,\n",
              " 'teacher german': 265,\n",
              " 'german institution': 115,\n",
              " 'institution led': 181,\n",
              " 'led several': 197,\n",
              " 'several collaborative': 242,\n",
              " 'collaborative research': 32,\n",
              " 'research effort': 235,\n",
              " 'effort university': 59,\n",
              " 'university institution': 289,\n",
              " 'institution germany': 179,\n",
              " 'germany year': 125,\n",
              " 'twenty german professor': 282,\n",
              " 'german professor serve': 118,\n",
              " 'professor serve institute': 222,\n",
              " 'serve institute period': 241,\n",
              " 'institute period four': 174,\n",
              " 'period four five': 218,\n",
              " 'four five year': 103,\n",
              " 'five year four': 97,\n",
              " 'year four german': 313,\n",
              " 'four german foreman': 105,\n",
              " 'german foreman workshop': 111,\n",
              " 'foreman workshop institute': 101,\n",
              " 'workshop institute two': 305,\n",
              " 'institute two year': 178,\n",
              " 'two year facility': 286,\n",
              " 'year facility training': 311,\n",
              " 'facility training twenty': 78,\n",
              " 'training twenty indian': 280,\n",
              " 'twenty indian teacher': 284,\n",
              " 'indian teacher german': 160,\n",
              " 'teacher german institution': 266,\n",
              " 'german institution led': 116,\n",
              " 'institution led several': 182,\n",
              " 'led several collaborative': 198,\n",
              " 'several collaborative research': 243,\n",
              " 'collaborative research effort': 33,\n",
              " 'research effort university': 237,\n",
              " 'effort university institution': 60,\n",
              " 'university institution germany': 290,\n",
              " 'institution germany year': 180,\n",
              " 'although official': 11,\n",
              " 'official support': 213,\n",
              " 'support german': 263,\n",
              " 'government ended': 130,\n",
              " 'ended several': 61,\n",
              " 'several research': 244,\n",
              " 'effort involving': 57,\n",
              " 'involving daad': 185,\n",
              " 'daad programme': 42,\n",
              " 'programme humboldt': 223,\n",
              " 'humboldt fellowship': 144,\n",
              " 'fellowship still': 81,\n",
              " 'still exist': 254,\n",
              " 'although official support': 12,\n",
              " 'official support german': 214,\n",
              " 'support german government': 264,\n",
              " 'german government ended': 113,\n",
              " 'government ended several': 131,\n",
              " 'ended several research': 62,\n",
              " 'several research effort': 245,\n",
              " 'research effort involving': 236,\n",
              " 'effort involving daad': 58,\n",
              " 'involving daad programme': 186,\n",
              " 'daad programme humboldt': 43,\n",
              " 'programme humboldt fellowship': 224,\n",
              " 'humboldt fellowship still': 145,\n",
              " 'fellowship still exist': 82,\n",
              " 'started functioning': 250,\n",
              " 'functioning first': 106,\n",
              " 'first batch': 85,\n",
              " 'batch student': 23,\n",
              " 'student admitted': 259,\n",
              " 'admitted july': 5,\n",
              " 'july first': 191,\n",
              " 'first year': 94,\n",
              " 'year engineering': 308,\n",
              " 'engineering course': 63,\n",
              " 'technology madras started': 274,\n",
              " 'madras started functioning': 204,\n",
              " 'started functioning first': 251,\n",
              " 'functioning first batch': 107,\n",
              " 'first batch student': 87,\n",
              " 'batch student admitted': 24,\n",
              " 'student admitted july': 260,\n",
              " 'admitted july first': 6,\n",
              " 'july first year': 192,\n",
              " 'first year engineering': 95,\n",
              " 'year engineering course': 309,\n",
              " 'institute inaugurated': 167,\n",
              " 'inaugurated union': 153,\n",
              " 'union minister': 287,\n",
              " 'minister scientific': 208,\n",
              " 'scientific research': 238,\n",
              " 'research cultural': 233,\n",
              " 'cultural affair': 41,\n",
              " 'institute inaugurated union': 168,\n",
              " 'inaugurated union minister': 154,\n",
              " 'union minister scientific': 288,\n",
              " 'minister scientific research': 209,\n",
              " 'scientific research cultural': 239,\n",
              " 'research cultural affair': 234,\n",
              " 'batch overall': 21,\n",
              " 'overall strength': 215,\n",
              " 'strength student': 255,\n",
              " 'student across': 257,\n",
              " 'across india': 2,\n",
              " 'first batch overall': 86,\n",
              " 'batch overall strength': 22,\n",
              " 'overall strength student': 216,\n",
              " 'strength student across': 256,\n",
              " 'student across india': 258,\n",
              " 'iits declared': 149,\n",
              " 'declared institute': 44,\n",
              " 'institute national': 171,\n",
              " 'national importance': 210,\n",
              " 'iits declared institute': 150,\n",
              " 'declared institute national': 45,\n",
              " 'institute national importance': 172,\n",
              " 'first convocation': 88,\n",
              " 'convocation ceremony': 36,\n",
              " 'ceremony held': 30,\n",
              " 'held july': 138,\n",
              " 'july dr': 189,\n",
              " 'dr radhakrishnan': 51,\n",
              " 'radhakrishnan president': 229,\n",
              " 'president india': 219,\n",
              " 'india delivering': 155,\n",
              " 'delivering convocation': 48,\n",
              " 'convocation address': 34,\n",
              " 'address awarding': 3,\n",
              " 'awarding degree': 19,\n",
              " 'degree inaugural': 46,\n",
              " 'inaugural batch': 151,\n",
              " 'first convocation ceremony': 89,\n",
              " 'convocation ceremony held': 37,\n",
              " 'ceremony held july': 31,\n",
              " 'held july dr': 139,\n",
              " 'july dr radhakrishnan': 190,\n",
              " 'dr radhakrishnan president': 52,\n",
              " 'radhakrishnan president india': 230,\n",
              " 'president india delivering': 220,\n",
              " 'india delivering convocation': 156,\n",
              " 'delivering convocation address': 49,\n",
              " 'convocation address awarding': 35,\n",
              " 'address awarding degree': 4,\n",
              " 'awarding degree inaugural': 20,\n",
              " 'degree inaugural batch': 47,\n",
              " 'inaugural batch student': 152,\n",
              " 'institute got': 163,\n",
              " 'got first': 128,\n",
              " 'first woman': 92,\n",
              " 'woman student': 302,\n",
              " 'student btech': 261,\n",
              " 'btech batch': 27,\n",
              " 'institute got first': 164,\n",
              " 'got first woman': 129,\n",
              " 'first woman student': 93,\n",
              " 'woman student btech': 303,\n",
              " 'student btech batch': 262,\n",
              " 'madras celebrated': 201,\n",
              " 'celebrated golden': 28,\n",
              " 'golden jubilee': 126,\n",
              " 'jubilee diamond': 187,\n",
              " 'diamond jubilee': 50,\n",
              " 'iit madras celebrated': 147,\n",
              " 'madras celebrated golden': 202,\n",
              " 'celebrated golden jubilee': 29,\n",
              " 'golden jubilee diamond': 127,\n",
              " 'jubilee diamond jubilee': 188}"
            ]
          },
          "metadata": {},
          "execution_count": 31
        }
      ]
    },
    {
      "cell_type": "code",
      "source": [
        "corpus[1]"
      ],
      "metadata": {
        "colab": {
          "base_uri": "https://localhost:8080/",
          "height": 35
        },
        "id": "KKoXUhtLZo-j",
        "outputId": "1aa965a8-8ec8-46a6-9f68-2cbacf7cec8e"
      },
      "execution_count": 32,
      "outputs": [
        {
          "output_type": "execute_result",
          "data": {
            "text/plain": [
              "'first indo german agreement signed bonn west germany establishment indian institute technology madras'"
            ],
            "application/vnd.google.colaboratory.intrinsic+json": {
              "type": "string"
            }
          },
          "metadata": {},
          "execution_count": 32
        }
      ]
    },
    {
      "cell_type": "code",
      "source": [
        "print(X[1].toarray().shape)\n",
        "X[0].toarray()"
      ],
      "metadata": {
        "colab": {
          "base_uri": "https://localhost:8080/"
        },
        "id": "uBRLp8YbabP7",
        "outputId": "a6da294a-6f0c-4593-98a3-e424c284d5aa"
      },
      "execution_count": 33,
      "outputs": [
        {
          "output_type": "stream",
          "name": "stdout",
          "text": [
            "(1, 314)\n"
          ]
        },
        {
          "output_type": "execute_result",
          "data": {
            "text/plain": [
              "array([[0, 0, 0, 0, 0, 0, 0, 0, 0, 0, 0, 0, 0, 1, 1, 0, 0, 0, 0, 0, 0, 0,\n",
              "        0, 0, 0, 0, 0, 0, 0, 0, 0, 0, 0, 0, 0, 0, 0, 0, 0, 0, 0, 0, 0, 0,\n",
              "        0, 0, 0, 0, 0, 0, 0, 0, 0, 1, 1, 0, 0, 0, 0, 0, 0, 0, 0, 0, 1, 0,\n",
              "        0, 0, 0, 1, 1, 0, 0, 0, 0, 0, 0, 0, 0, 0, 0, 0, 0, 0, 0, 0, 0, 0,\n",
              "        0, 0, 0, 0, 0, 0, 0, 0, 0, 0, 0, 0, 0, 0, 0, 0, 0, 0, 0, 0, 0, 0,\n",
              "        0, 0, 1, 0, 1, 0, 0, 0, 0, 0, 0, 0, 0, 0, 0, 0, 0, 0, 0, 0, 0, 0,\n",
              "        0, 0, 1, 1, 0, 0, 0, 0, 1, 1, 0, 0, 0, 0, 0, 0, 0, 0, 0, 0, 0, 0,\n",
              "        0, 0, 0, 0, 0, 0, 0, 0, 0, 0, 0, 1, 1, 0, 0, 0, 0, 0, 0, 0, 0, 0,\n",
              "        0, 0, 0, 0, 0, 0, 0, 0, 0, 0, 0, 0, 0, 0, 0, 0, 0, 0, 0, 0, 0, 0,\n",
              "        0, 0, 0, 0, 0, 0, 0, 0, 0, 0, 0, 0, 0, 1, 1, 0, 0, 0, 0, 0, 0, 0,\n",
              "        0, 0, 0, 0, 0, 0, 0, 0, 0, 0, 0, 0, 0, 0, 0, 0, 0, 0, 0, 0, 0, 0,\n",
              "        0, 0, 0, 0, 0, 0, 0, 0, 0, 0, 0, 0, 0, 0, 0, 0, 0, 0, 0, 0, 0, 0,\n",
              "        0, 0, 0, 0, 0, 1, 1, 0, 0, 0, 0, 0, 0, 0, 0, 0, 0, 0, 0, 0, 0, 0,\n",
              "        0, 0, 0, 0, 0, 0, 0, 1, 1, 0, 0, 0, 1, 1, 0, 0, 0, 0, 0, 0, 0, 0,\n",
              "        0, 0, 0, 0, 0, 0]])"
            ]
          },
          "metadata": {},
          "execution_count": 33
        }
      ]
    },
    {
      "cell_type": "code",
      "source": [
        "### TFIDF\n",
        "from sklearn.feature_extraction.text import TfidfVectorizer\n",
        "cv=TfidfVectorizer(ngram_range=(1,1),max_features=10)\n",
        "X=cv.fit_transform(corpus)"
      ],
      "metadata": {
        "id": "23hxLasgan7r"
      },
      "execution_count": 34,
      "outputs": []
    },
    {
      "cell_type": "code",
      "source": [
        "corpus[0]"
      ],
      "metadata": {
        "colab": {
          "base_uri": "https://localhost:8080/",
          "height": 53
        },
        "id": "r4adlfEc1Jsi",
        "outputId": "44356a4f-5b47-4001-d25d-18c1e710bb9d"
      },
      "execution_count": 35,
      "outputs": [
        {
          "output_type": "execute_result",
          "data": {
            "text/plain": [
              "'west german government offered technical assistance establishing west institute higher education engineering india'"
            ],
            "application/vnd.google.colaboratory.intrinsic+json": {
              "type": "string"
            }
          },
          "metadata": {},
          "execution_count": 35
        }
      ]
    },
    {
      "cell_type": "code",
      "source": [
        "X[0].toarray()"
      ],
      "metadata": {
        "colab": {
          "base_uri": "https://localhost:8080/"
        },
        "id": "r7kBHGWI1MKn",
        "outputId": "1b69e7ab-0846-4171-d626-14f7c53198a8"
      },
      "execution_count": 36,
      "outputs": [
        {
          "output_type": "execute_result",
          "data": {
            "text/plain": [
              "array([[0.        , 0.        , 0.33917373, 0.        , 0.37144372,\n",
              "        0.26740847, 0.        , 0.        , 0.821878  , 0.        ]])"
            ]
          },
          "metadata": {},
          "execution_count": 36
        }
      ]
    },
    {
      "cell_type": "code",
      "source": [],
      "metadata": {
        "id": "ZKJYSWam1Ob2"
      },
      "execution_count": null,
      "outputs": []
    }
  ]
}